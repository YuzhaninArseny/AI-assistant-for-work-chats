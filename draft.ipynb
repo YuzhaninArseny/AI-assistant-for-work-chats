{
 "cells": [
  {
   "cell_type": "code",
   "execution_count": 1,
   "metadata": {
    "collapsed": true,
    "ExecuteTime": {
     "end_time": "2025-10-16T04:09:35.411123Z",
     "start_time": "2025-10-16T04:09:31.958514Z"
    }
   },
   "outputs": [],
   "source": [
    "from transformers import AutoTokenizer, T5ForConditionalGeneration"
   ]
  },
  {
   "cell_type": "code",
   "execution_count": 2,
   "outputs": [],
   "source": [
    "model_name = 'IlyaGusev/rut5_base_sum_gazeta'  # \"facebook/mbart-large-50-many-to-many-mmt\"\n",
    "\n",
    "tokenizer = AutoTokenizer.from_pretrained(model_name)\n",
    "model = T5ForConditionalGeneration.from_pretrained(model_name)"
   ],
   "metadata": {
    "collapsed": false,
    "ExecuteTime": {
     "end_time": "2025-10-16T04:09:37.377074Z",
     "start_time": "2025-10-16T04:09:35.411728Z"
    }
   }
  },
  {
   "cell_type": "code",
   "execution_count": 3,
   "outputs": [],
   "source": [
    "article_text = \"\"\"\n",
    "В современном мире искусственный интеллект становится неотъемлемой частью\n",
    "нашей жизни. Технологии машинного обучения используются в различных\n",
    "сферах: от медицины до финансовых услуг. Компании внедряют ИИ для\n",
    "автоматизации процессов, анализа больших данных и принятия решений.\n",
    "Исследования показывают, что к 2025 году более 90% предприятий будут\n",
    "использовать технологии искусственного интеллекта в своей деятельности.\n",
    "\"\"\""
   ],
   "metadata": {
    "collapsed": false,
    "ExecuteTime": {
     "end_time": "2025-10-16T04:09:37.383418Z",
     "start_time": "2025-10-16T04:09:37.378863Z"
    }
   }
  },
  {
   "cell_type": "code",
   "execution_count": 4,
   "outputs": [],
   "source": [
    "tokenized_text = tokenizer.tokenize(article_text)"
   ],
   "metadata": {
    "collapsed": false,
    "ExecuteTime": {
     "end_time": "2025-10-16T04:09:37.385289Z",
     "start_time": "2025-10-16T04:09:37.382386Z"
    }
   }
  },
  {
   "cell_type": "code",
   "execution_count": 5,
   "outputs": [],
   "source": [
    "data_after_tokenization = tokenizer(\n",
    "    [article_text],\n",
    "    max_length=1024,\n",
    "    padding='max_length',\n",
    "    truncation=True,\n",
    "    return_tensors='pt',\n",
    ")"
   ],
   "metadata": {
    "collapsed": false,
    "ExecuteTime": {
     "end_time": "2025-10-16T04:09:37.389290Z",
     "start_time": "2025-10-16T04:09:37.387216Z"
    }
   }
  },
  {
   "cell_type": "code",
   "execution_count": 6,
   "outputs": [],
   "source": [
    "input_ids = data_after_tokenization['input_ids']"
   ],
   "metadata": {
    "collapsed": false,
    "ExecuteTime": {
     "end_time": "2025-10-16T04:09:37.391463Z",
     "start_time": "2025-10-16T04:09:37.389980Z"
    }
   }
  },
  {
   "cell_type": "code",
   "execution_count": 10,
   "outputs": [],
   "source": [
    "output_ids = model.generate(\n",
    "    input_ids=input_ids,\n",
    "    no_repeat_ngram_size=4,\n",
    "    num_beams=5,\n",
    ")[0]"
   ],
   "metadata": {
    "collapsed": false,
    "ExecuteTime": {
     "end_time": "2025-10-16T04:11:24.654986Z",
     "start_time": "2025-10-16T04:11:10.564054Z"
    }
   }
  },
  {
   "cell_type": "code",
   "execution_count": 11,
   "outputs": [],
   "source": [
    "summary = tokenizer.decode(\n",
    "    output_ids,\n",
    "    skip_special_tokens=True\n",
    ")"
   ],
   "metadata": {
    "collapsed": false,
    "ExecuteTime": {
     "end_time": "2025-10-16T04:11:24.657670Z",
     "start_time": "2025-10-16T04:11:24.656155Z"
    }
   }
  },
  {
   "cell_type": "code",
   "execution_count": 12,
   "outputs": [
    {
     "data": {
      "text/plain": "'В современном мире искусственный интеллект становится неотъемлемой частью нашей жизни. К 2025 году более 90% предприятий будут использовать ИИ для автоматизации процессов, анализа больших данных и принятия решений.'"
     },
     "execution_count": 12,
     "metadata": {},
     "output_type": "execute_result"
    }
   ],
   "source": [
    "summary"
   ],
   "metadata": {
    "collapsed": false,
    "ExecuteTime": {
     "end_time": "2025-10-16T04:11:24.660915Z",
     "start_time": "2025-10-16T04:11:24.658656Z"
    }
   }
  },
  {
   "cell_type": "code",
   "execution_count": null,
   "outputs": [],
   "source": [],
   "metadata": {
    "collapsed": false
   }
  },
  {
   "cell_type": "code",
   "execution_count": null,
   "outputs": [],
   "source": [],
   "metadata": {
    "collapsed": false
   }
  },
  {
   "cell_type": "code",
   "execution_count": null,
   "outputs": [],
   "source": [],
   "metadata": {
    "collapsed": false
   }
  }
 ],
 "metadata": {
  "kernelspec": {
   "display_name": "Python 3",
   "language": "python",
   "name": "python3"
  },
  "language_info": {
   "codemirror_mode": {
    "name": "ipython",
    "version": 2
   },
   "file_extension": ".py",
   "mimetype": "text/x-python",
   "name": "python",
   "nbconvert_exporter": "python",
   "pygments_lexer": "ipython2",
   "version": "2.7.6"
  }
 },
 "nbformat": 4,
 "nbformat_minor": 0
}
