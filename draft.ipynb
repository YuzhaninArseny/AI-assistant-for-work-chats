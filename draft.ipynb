{
 "cells": [
  {
   "cell_type": "code",
   "execution_count": 1,
   "metadata": {
    "collapsed": true,
    "ExecuteTime": {
     "end_time": "2025-10-15T08:30:29.834169Z",
     "start_time": "2025-10-15T08:30:26.910488Z"
    }
   },
   "outputs": [],
   "source": [
    "from transformers import MBartTokenizer, MBartForConditionalGeneration"
   ]
  },
  {
   "cell_type": "code",
   "execution_count": null,
   "outputs": [
    {
     "data": {
      "text/plain": "model.safetensors:   0%|          | 0.00/3.47G [00:00<?, ?B/s]",
      "application/vnd.jupyter.widget-view+json": {
       "version_major": 2,
       "version_minor": 0,
       "model_id": "5c82f6e03efe48729992022580a3f33d"
      }
     },
     "metadata": {},
     "output_type": "display_data"
    }
   ],
   "source": [
    "model_name = \"IlyaGusev/mbart_ru_sum_gazeta\"\n",
    "\n",
    "tokenizer = MBartTokenizer.from_pretrained(model_name)\n",
    "model = MBartForConditionalGeneration.from_pretrained(model_name)"
   ],
   "metadata": {
    "collapsed": false,
    "is_executing": true,
    "ExecuteTime": {
     "start_time": "2025-10-15T08:30:31.543903Z"
    }
   }
  },
  {
   "cell_type": "code",
   "execution_count": null,
   "outputs": [],
   "source": [
    "article_text = \"\"\"\n",
    "Интересная информация от TheInformation:\n",
    "\n",
    "Пока OpenAI защищает свою будущую корпоративную реструктуризацию от целого ряда критиков со стороны некоммерческих компаний, они, вероятно, довольны своим прошлогодним решением нанять ряд сотрудников с глубокими связями с демократами.\n",
    "\n",
    "Эти назначения, включая демократа Chris Lehane, который возглавляет команду OpenAI по международным делам (global affairs team), выглядели просчетом, когда Donald Trump победил на президентских выборах, особенно учитывая прежнюю позицию CEO Sam Altman (он изменил свою позицию после выборов, пожертвовав 1 миллион долларов в инаугурационный фонд президента и сотрудничал с президентской администрацией над проектом дата-центра Stargate).\n",
    "\n",
    "Но OpenAI удвоила ставку на демократов. После того как Lehane был нанят, команда Global Affairs привлекла Debbie Mesloh, которая консультировала Kamala Harris во время ее кампаний на посты генерального прокурора и сенатора, и Marisa Moret, ранее занимавшую должности управляющего юриста и руководителя аппарата городского прокурора Сан Франциско.\n",
    "\n",
    "В качестве внешнего юрисконсульта OpenAI также наняла Ann O’Leary, которая ранее занимала пост руководителя аппарата губернатора Калифорнии Gavin Newsom и консультировала Hillary Clinton во время ее президентской кампании 2016 года. Юридическая фирма Ann O’Leary Jenner & Block — одна из фирм, против которых Президент недавно издал не самые приятные указы — за наем юристов, работавших над расследованиями против него самого.\n",
    "\n",
    "Хотя демократы не у власти в Вашингтоне, OpenAI больше ориентируется на местный уровень. Все вышеперечисленные демократы помогают OpenAI сравняться по мощи с группами, выступающими против ее планируемой реструктуризации, включая коалицию из более чем 60 некоммерческих организаций, многие из которых базируются в Калифорнии и которые обратились к генеральному прокурору штата с петицией о вмешательстве. Критики реструктуризации утверждают, что некоммерческая организация, которая владеет и контролирует OpenAI, может быть обделена при реструктуризации ее коммерческой дочерней компании.\n",
    "\n",
    "Fred Blackwell, CEO филантропического фонда San Francisco Foundation, и Orson Aguilar, президент и CEO правозащитной группы LatinoProsperity, возглавляют эту коалицию.\n",
    "\n",
    "Blackwell и Aguilar встретились с представителями OpenAI в марте в сопровождении Julián Castro, который занимал пост министра жилищного строительства и городского развития во времена президенства Obama. С другой стороны стола находились Mesloh, Moret и Daniel Zingale, работавшие на трех губернаторов в Калифорнии.\n",
    "\n",
    "Zingale собирает консультативную комиссию, которая в июле представит рекомендации совету директоров OpenAI относительно ее структуры управления и способов реализации ее благотворительной миссии. В состав комиссии из пяти человек входят два бывших руководителя California Endowment, одной из организаций в коалиции некоммерческих организаций, выступающих против преобразования, и Dolores Huerta, легендарная профсоюзная активистка, соосновательница профсоюза United Farm Workers вместе с Cesar Chavez.\n",
    "\n",
    "В письме, отвечающем на требования коалиции, OpenAI заявила, что ее консультативная комиссия связалась с некоммерческими критиками для получения их мнения «о том, как Nonprofit может достичь реального воздействия в таких областях, как здравоохранение, образование, государственные услуги и научные открытия». Коалиция некоммерческих организаций и консультативная комиссия OpenAI должны встретиться на следующей неделе.\n",
    "\"\"\""
   ],
   "metadata": {
    "collapsed": false
   }
  },
  {
   "cell_type": "code",
   "execution_count": null,
   "outputs": [],
   "source": [
    "tokenized_text = tokenizer.tokenize(article_text)"
   ],
   "metadata": {
    "collapsed": false
   }
  },
  {
   "cell_type": "code",
   "execution_count": null,
   "outputs": [],
   "source": [],
   "metadata": {
    "collapsed": false
   }
  }
 ],
 "metadata": {
  "kernelspec": {
   "display_name": "Python 3",
   "language": "python",
   "name": "python3"
  },
  "language_info": {
   "codemirror_mode": {
    "name": "ipython",
    "version": 2
   },
   "file_extension": ".py",
   "mimetype": "text/x-python",
   "name": "python",
   "nbconvert_exporter": "python",
   "pygments_lexer": "ipython2",
   "version": "2.7.6"
  }
 },
 "nbformat": 4,
 "nbformat_minor": 0
}
